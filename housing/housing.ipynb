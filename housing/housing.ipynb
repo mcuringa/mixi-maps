{
 "cells": [
  {
   "cell_type": "code",
   "execution_count": 1,
   "id": "22128c02",
   "metadata": {},
   "outputs": [],
   "source": [
    "from census import Census\n",
    "import us\n",
    "from us import states\n",
    "import os\n",
    "import pandas as pd\n",
    "import geopandas as gpd\n",
    "import requests\n",
    "\n",
    "api_key = os.environ[\"CENSUS_API_KEY\"]"
   ]
  }
 ],
 "metadata": {
  "kernelspec": {
   "display_name": "Python 3",
   "language": "python",
   "name": "python3"
  },
  "language_info": {
   "codemirror_mode": {
    "name": "ipython",
    "version": 3
   },
   "file_extension": ".py",
   "mimetype": "text/x-python",
   "name": "python",
   "nbconvert_exporter": "python",
   "pygments_lexer": "ipython3",
   "version": "3.13.3"
  }
 },
 "nbformat": 4,
 "nbformat_minor": 5
}
