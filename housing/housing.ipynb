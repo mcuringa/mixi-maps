{
 "cells": [
  {
   "cell_type": "code",
   "execution_count": 1,
   "id": "22128c02",
   "metadata": {},
   "outputs": [],
   "source": [
    "from census import Census\n",
    "import us\n",
    "from us import states\n",
    "import os\n",
    "import pandas as pd\n",
    "import geopandas as gpd\n",
    "import requests\n",
    "import re\n",
    "\n",
    "api_key = os.environ[\"CENSUS_API_KEY\"]"
   ]
  },
  {
   "cell_type": "code",
   "execution_count": 2,
   "id": "dbd138d6",
   "metadata": {},
   "outputs": [],
   "source": [
    "def nice_name(var):\n",
    "    var = var.replace(\"Estimate!!\", \"\")\n",
    "    var = var.lower()\n",
    "\n",
    "    var = re.sub(r'^[^a-zA-Z0-9]+|[^a-zA-Z0-9]+$', '',\n",
    "                 re.sub(r'[^a-zA-Z0-9]+', '_', var))\n",
    "\n",
    "    if var.startswith(\"total_\"):\n",
    "        var = var[6:]\n",
    "\n",
    "    var = \"_\".join(var.split(\" \"))\n",
    "    if var.endswith(\":\"):\n",
    "        var = var[:-1]\n",
    "    return var\n",
    "\n",
    "\n",
    "def col_name(var):\n",
    "    if \"!!\" in var:\n",
    "        var = var.split(\"!!\")[-1]\n",
    "    return nice_name(var)"
   ]
  },
  {
   "cell_type": "code",
   "execution_count": 3,
   "id": "51812914",
   "metadata": {},
   "outputs": [
    {
     "data": {
      "text/plain": [
       "{'NAME': 'geographic_area_name',\n",
       " 'B25003_003E': 'renter_occupied',\n",
       " 'B25003_002E': 'owner_occupied',\n",
       " 'B25003_001E': 'total',\n",
       " 'GEO_ID': 'geography'}"
      ]
     },
     "execution_count": 3,
     "metadata": {},
     "output_type": "execute_result"
    }
   ],
   "source": [
    "table = \"B25003\"\n",
    "url = f\"https://api.census.gov/data/2023/acs/acs5/groups/{table}.json\"\n",
    "r = requests.get(url)\n",
    "data = r.json()\n",
    "data = data[\"variables\"]\n",
    "vars = dict([(k, col_name(v[\"label\"])) for k, v in data.items() if not k.startswith(table) or k.endswith(\"E\")])\n",
    "vars\n"
   ]
  },
  {
   "cell_type": "code",
   "execution_count": 4,
   "id": "e281019b",
   "metadata": {},
   "outputs": [],
   "source": [
    "# build the Census object\n",
    "c = Census(api_key, year=2023)\n",
    "# send the query: county* means all counties in the state\n",
    "data = c.acs5.get(list(vars.keys()), {'for': 'county:*', 'in': f'state:{states.NY.fips}'})\n",
    "\n",
    "# # data is a list of dictionaries, so we can convert it to a DataFrame\n",
    "df = pd.DataFrame(data)\n",
    "\n",
    "df.rename(columns=vars, inplace=True)\n"
   ]
  },
  {
   "cell_type": "code",
   "execution_count": 5,
   "id": "97f45903",
   "metadata": {},
   "outputs": [
    {
     "data": {
      "text/html": [
       "<div>\n",
       "<style scoped>\n",
       "    .dataframe tbody tr th:only-of-type {\n",
       "        vertical-align: middle;\n",
       "    }\n",
       "\n",
       "    .dataframe tbody tr th {\n",
       "        vertical-align: top;\n",
       "    }\n",
       "\n",
       "    .dataframe thead th {\n",
       "        text-align: right;\n",
       "    }\n",
       "</style>\n",
       "<table border=\"1\" class=\"dataframe\">\n",
       "  <thead>\n",
       "    <tr style=\"text-align: right;\">\n",
       "      <th></th>\n",
       "      <th>geographic_area_name</th>\n",
       "      <th>renter_occupied</th>\n",
       "      <th>owner_occupied</th>\n",
       "      <th>total</th>\n",
       "      <th>geography</th>\n",
       "      <th>state</th>\n",
       "      <th>county</th>\n",
       "      <th>my_total</th>\n",
       "      <th>mismatch</th>\n",
       "    </tr>\n",
       "  </thead>\n",
       "  <tbody>\n",
       "  </tbody>\n",
       "</table>\n",
       "</div>"
      ],
      "text/plain": [
       "Empty DataFrame\n",
       "Columns: [geographic_area_name, renter_occupied, owner_occupied, total, geography, state, county, my_total, mismatch]\n",
       "Index: []"
      ]
     },
     "execution_count": 5,
     "metadata": {},
     "output_type": "execute_result"
    }
   ],
   "source": [
    "\n",
    "df[\"my_total\"] = df.renter_occupied + df.owner_occupied\n",
    "df[\"mismatch\"] = df.total != df.my_total\n",
    "df[df.mismatch == True]"
   ]
  }
 ],
 "metadata": {
  "kernelspec": {
   "display_name": "Python 3",
   "language": "python",
   "name": "python3"
  },
  "language_info": {
   "codemirror_mode": {
    "name": "ipython",
    "version": 3
   },
   "file_extension": ".py",
   "mimetype": "text/x-python",
   "name": "python",
   "nbconvert_exporter": "python",
   "pygments_lexer": "ipython3",
   "version": "3.13.3"
  }
 },
 "nbformat": 4,
 "nbformat_minor": 5
}
